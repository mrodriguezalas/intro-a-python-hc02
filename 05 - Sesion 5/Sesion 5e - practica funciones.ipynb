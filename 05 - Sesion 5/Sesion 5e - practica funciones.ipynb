{
 "cells": [
  {
   "cell_type": "markdown",
   "metadata": {},
   "source": [
    "# Practica\n",
    "\n",
    "1. Defina una tupla\n",
    "2. Mencione el nombre del tipo de dato que se define con {}\n",
    "3. La funcion que se usa para abrir un archivo en python es:________\n",
    "4. Mencione la definicion de una libreria en python\n",
    "5. La razon por la cual matplotlib es utilizada:______________\n",
    "6. La diferencia entre un for loop y un while loop\n",
    "7. La consecuencia de no definir bien la condicion a evaluar dentro de un while loop\n",
    "8. 2 Razones por las cuales aprendemos a usar astropy\n",
    "9. La definicion de sintaxis dentro de un lenguaje de programacion\n",
    "10. 3 razones por las que muchas personas prefieran programar en python\n",
    "11. Ejemplo de operadores logicos y su funcion\n",
    "12. Definicion de identificador\n",
    "13. Palabra reservada para definir una funcion\n",
    "14. Mencione el por que es importante indentar en python\n",
    "15. Mencione los comandos que se usan para importar una libreria\n",
    "16. Mencione la funcion del comando git pull en GitHub\n",
    "17. Explique para que sirve el comando git commit\n",
    "18. Cual es el resultado de Clonar un Repositorio en GitHub?\n",
    "19. Donde se guardan mis cambios al hacer un git push?\n"
   ]
  },
  {
   "cell_type": "markdown",
   "metadata": {},
   "source": [
    "1.Define una función llamada menorque() que nos devuelva en pantalla el número menor entre dos enteros. Define una salida de texto en caso de que ."
   ]
  },
  {
   "cell_type": "code",
   "execution_count": null,
   "metadata": {},
   "outputs": [],
   "source": []
  },
  {
   "cell_type": "markdown",
   "metadata": {},
   "source": [
    "2. Define una función llamada num_max() que nos devuelva en pantalla el número mayor entre 4 diferentes enteros. No definas ningún valor a imprimir en caso de que ambos números sean iguales."
   ]
  },
  {
   "cell_type": "code",
   "execution_count": null,
   "metadata": {},
   "outputs": [],
   "source": []
  },
  {
   "cell_type": "markdown",
   "metadata": {},
   "source": [
    "3. Define una función que nos devuelva True si al darle una vocal mayúscula nos devuelva False, mientras que si es minúscula sea True."
   ]
  },
  {
   "cell_type": "code",
   "execution_count": null,
   "metadata": {},
   "outputs": [],
   "source": []
  },
  {
   "cell_type": "markdown",
   "metadata": {},
   "source": [
    "4. Define una función simple que no tenga parámetros y sólo imprima en pantalla un mensaje."
   ]
  },
  {
   "cell_type": "code",
   "execution_count": null,
   "metadata": {},
   "outputs": [],
   "source": []
  },
  {
   "cell_type": "markdown",
   "metadata": {},
   "source": [
    "5. Define una función que permita imprimir un mensaje en base a los valores tomados de una lista para comprobar si todos los de la lista son mayores o menores de edad."
   ]
  },
  {
   "cell_type": "code",
   "execution_count": null,
   "metadata": {},
   "outputs": [],
   "source": []
  },
  {
   "cell_type": "markdown",
   "metadata": {},
   "source": [
    "6. Define una función que permita multiplicar los números de una lista y sumar sus resultados."
   ]
  },
  {
   "cell_type": "code",
   "execution_count": null,
   "metadata": {},
   "outputs": [],
   "source": []
  },
  {
   "cell_type": "markdown",
   "metadata": {},
   "source": [
    "7. Imprime en pantalla la hora y fecha actual."
   ]
  },
  {
   "cell_type": "code",
   "execution_count": null,
   "metadata": {},
   "outputs": [],
   "source": []
  },
  {
   "cell_type": "markdown",
   "metadata": {},
   "source": [
    "8. Crea un código que solicite ingresar el nombre de un archivo con su extensión y devuelva la extensión de la misma. Por ejemplo: La extensión de programando-aprenderpython.py es “.py”."
   ]
  },
  {
   "cell_type": "code",
   "execution_count": null,
   "metadata": {},
   "outputs": [],
   "source": []
  },
  {
   "cell_type": "markdown",
   "metadata": {},
   "source": [
    "9. Escribir un programa que guarde en una variable el diccionario {'Euro':'€', 'Dollar':'$', 'Yen':'¥'}, pregunte al usuario por una divisa y muestre su símbolo o un mensaje de aviso si la divisa no está en el diccionario."
   ]
  },
  {
   "cell_type": "code",
   "execution_count": null,
   "metadata": {},
   "outputs": [],
   "source": []
  },
  {
   "cell_type": "markdown",
   "metadata": {},
   "source": [
    "10. Escribir un programa que pregunte al usuario su nombre, edad, dirección y teléfono y lo guarde en un diccionario. Después debe mostrar por pantalla el mensaje <nombre> tiene <edad> años, vive en <dirección> y su número de teléfono es <teléfono>."
   ]
  },
  {
   "cell_type": "code",
   "execution_count": null,
   "metadata": {},
   "outputs": [],
   "source": []
  },
  {
   "cell_type": "code",
   "execution_count": null,
   "metadata": {},
   "outputs": [],
   "source": []
  }
 ],
 "metadata": {
  "kernelspec": {
   "display_name": "Python 3",
   "language": "python",
   "name": "python3"
  },
  "language_info": {
   "codemirror_mode": {
    "name": "ipython",
    "version": 3
   },
   "file_extension": ".py",
   "mimetype": "text/x-python",
   "name": "python",
   "nbconvert_exporter": "python",
   "pygments_lexer": "ipython3",
   "version": "3.7.4"
  }
 },
 "nbformat": 4,
 "nbformat_minor": 2
}
