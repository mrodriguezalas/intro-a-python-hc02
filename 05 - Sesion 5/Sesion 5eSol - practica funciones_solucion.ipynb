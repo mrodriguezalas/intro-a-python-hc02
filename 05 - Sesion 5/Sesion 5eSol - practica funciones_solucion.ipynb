{
 "cells": [
  {
   "cell_type": "markdown",
   "metadata": {},
   "source": [
    "# Practica\n",
    "\n",
    "1. Defina una tupla\n",
    "2. Mencione el nombre del tipo de dato que se define con {}\n",
    "3. La funcion que se usa para abrir un archivo en python es:________\n",
    "4. Mencione la definicion de una libreria en python\n",
    "5. La razon por la cual matplotlib es utilizada:______________\n",
    "6. La diferencia entre un for loop y un while loop\n",
    "7. La consecuencia de no definir bien la condicion a evaluar dentro de un while loop\n",
    "8. 2 Razones por las cuales aprendemos a usar astropy\n",
    "9. La definicion de sintaxis dentro de un lenguaje de programacion\n",
    "10. 3 razones por las que muchas personas prefieran programar en python\n",
    "11. Ejemplo de operadores logicos y su funcion\n",
    "12. Definicion de identificador\n",
    "13. Palabra reservada para definir una funcion\n",
    "14. Mencione el por que es importante indentar en python\n",
    "15. Mencione los comandos que se usan para importar una libreria\n",
    "16. Mencione la funcion del comando git pull en GitHub\n",
    "17. Explique para que sirve el comando git commit\n",
    "18. Cual es el resultado de Clonar un Repositorio en GitHub?\n",
    "19. Donde se guardan mis cambios al hacer un git push?\n"
   ]
  },
  {
   "cell_type": "markdown",
   "metadata": {},
   "source": [
    "1.Define una función llamada menorque() que nos devuelva en pantalla el número menor entre dos enteros. Define una salida de texto en caso de que ."
   ]
  },
  {
   "cell_type": "code",
   "execution_count": null,
   "metadata": {},
   "outputs": [],
   "source": [
    "def menorque(a, b):\n",
    "    if a > b:\n",
    "        print (\"El menor es\", b)\n",
    "    elif b > a:\n",
    "        print (\"El menor es\", a)\n",
    "    else: \n",
    "        print (\"Ambos son iguales\")\n",
    " \n",
    "menorque(1,2)"
   ]
  },
  {
   "cell_type": "markdown",
   "metadata": {},
   "source": [
    "2. Define una función llamada num_max() que nos devuelva en pantalla el número mayor entre 4 diferentes enteros. No definas ningún valor a imprimir en caso de que ambos números sean iguales."
   ]
  },
  {
   "cell_type": "code",
   "execution_count": null,
   "metadata": {},
   "outputs": [],
   "source": [
    "def num_max (a, b, c):\n",
    "    if a > b and a > c:\n",
    "        print (a)\n",
    "    elif b > a and b > c:\n",
    "        print (b)\n",
    "    elif c > a and c > b:\n",
    "        print (c)\n",
    "    else:\n",
    "        print (\"Son iguales\")\n",
    "num_max(1,2,3)"
   ]
  },
  {
   "cell_type": "markdown",
   "metadata": {},
   "source": [
    "3. Define una función que nos devuelva True si al darle una vocal mayúscula nos devuelva False, mientras que si es minúscula sea True."
   ]
  },
  {
   "cell_type": "code",
   "execution_count": null,
   "metadata": {},
   "outputs": [],
   "source": [
    "def es_vocal (x):\n",
    "    if x == \"a\" or x == \"e\" or x == \"i\" or x == \"o\" or x == \"u\":\n",
    "        return True\n",
    "    elif x == \"A\" or x == \"E\" or x == \"I\" or x == \"O\" or x == \"U\":\n",
    "        return False\n",
    "es_vocal(\"e\")"
   ]
  },
  {
   "cell_type": "markdown",
   "metadata": {},
   "source": [
    "4. Define una función simple que no tenga parámetros y sólo imprima en pantalla un mensaje."
   ]
  },
  {
   "cell_type": "code",
   "execution_count": null,
   "metadata": {},
   "outputs": [],
   "source": [
    "def sin_parametros():\n",
    "    print (\"¡No tengo parámetros!\")\n",
    "sin_parametros()"
   ]
  },
  {
   "cell_type": "markdown",
   "metadata": {},
   "source": [
    "5. Define una función que permita imprimir un mensaje en base a los valores tomados de una lista para comprobar si todos los de la lista son mayores o menores de edad."
   ]
  },
  {
   "cell_type": "code",
   "execution_count": null,
   "metadata": {},
   "outputs": [],
   "source": [
    "def mayor_menor_edad (lista):\n",
    "    for i in lista:\n",
    "        if i > 18:\n",
    "            print (\"Es mayor de edad\")\n",
    "        elif i == 18:\n",
    "            print (\"Apenas tiene la mayoría de edad\")\n",
    "        else:\n",
    "            print (\"Es menor de edad\")\n",
    "mayor_menor_edad([18,21,8,19,5,4,3,8,2,3])"
   ]
  },
  {
   "cell_type": "markdown",
   "metadata": {},
   "source": [
    "6. Define una función que permita multiplicar los números de una lista y sumar sus resultados."
   ]
  },
  {
   "cell_type": "code",
   "execution_count": null,
   "metadata": {},
   "outputs": [],
   "source": [
    "def multip (lista):\n",
    "    multiplicacion = 1\n",
    "    for i in lista:\n",
    "        multiplicacion *= i\n",
    "    print (multiplicacion)\n",
    "multip([4,2,6])"
   ]
  },
  {
   "cell_type": "markdown",
   "metadata": {},
   "source": [
    "7. Imprime en pantalla la hora y fecha actual."
   ]
  },
  {
   "cell_type": "code",
   "execution_count": null,
   "metadata": {},
   "outputs": [],
   "source": [
    "import datetime\n",
    "now = datetime.datetime.now()\n",
    "print (\"La fecha y hora actual es : \")\n",
    "print (now.strftime(\"%Y-%m-%d %H:%M:%S\"))"
   ]
  },
  {
   "cell_type": "markdown",
   "metadata": {},
   "source": [
    "8. Crea un código que solicite ingresar el nombre de un archivo con su extensión y devuelva la extensión de la misma. Por ejemplo: La extensión de programando-aprenderpython.py es “.py”."
   ]
  },
  {
   "cell_type": "code",
   "execution_count": null,
   "metadata": {},
   "outputs": [],
   "source": [
    "nombrearchivo = input(\"Ingrese el nombre del archivo: \")\n",
    "na_extns = nombrearchivo.split(\".\")\n",
    "print (\"La extensión del archivo es : \" + repr(na_extns[-1]))"
   ]
  },
  {
   "cell_type": "markdown",
   "metadata": {},
   "source": [
    "9. Escribir un programa que guarde en una variable el diccionario {'Euro':'€', 'Dollar':'$', 'Yen':'¥'}, pregunte al usuario por una divisa y muestre su símbolo o un mensaje de aviso si la divisa no está en el diccionario."
   ]
  },
  {
   "cell_type": "code",
   "execution_count": null,
   "metadata": {},
   "outputs": [],
   "source": [
    "currencies = {'Euro':'€', 'Dollar':'$', 'Yen':'¥'}\n",
    "currency = input(\"Introduce una divisa: \")\n",
    "print(currencies.get(currency.title(), \"La divisa no está.\"))"
   ]
  },
  {
   "cell_type": "markdown",
   "metadata": {},
   "source": [
    "10. Escribir un programa que pregunte al usuario su nombre, edad, dirección y teléfono y lo guarde en un diccionario. Después debe mostrar por pantalla el mensaje <nombre> tiene <edad> años, vive en <dirección> y su número de teléfono es <teléfono>."
   ]
  },
  {
   "cell_type": "code",
   "execution_count": null,
   "metadata": {},
   "outputs": [],
   "source": [
    "name = input('¿Cómo te llamas? ')\n",
    "age = input('¿Cuántos años tienes? ')\n",
    "address = input('¿Cuál es tu dirección? ')\n",
    "phone = input('¿Cuál es tu número de teléfono? ')\n",
    "person = {'name': name, 'age': age, 'address': address, 'phone': phone}\n",
    "print(person['name'], 'tiene', person['age'], 'años, vive en', person['address'], 'y su número de teléfono es', person['phone'])"
   ]
  },
  {
   "cell_type": "code",
   "execution_count": null,
   "metadata": {},
   "outputs": [],
   "source": []
  }
 ],
 "metadata": {
  "kernelspec": {
   "display_name": "Python 3",
   "language": "python",
   "name": "python3"
  },
  "language_info": {
   "codemirror_mode": {
    "name": "ipython",
    "version": 3
   },
   "file_extension": ".py",
   "mimetype": "text/x-python",
   "name": "python",
   "nbconvert_exporter": "python",
   "pygments_lexer": "ipython3",
   "version": "3.7.4"
  }
 },
 "nbformat": 4,
 "nbformat_minor": 2
}
