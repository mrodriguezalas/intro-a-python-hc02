{
 "cells": [
  {
   "cell_type": "markdown",
   "metadata": {},
   "source": [
    "# Ejemplos de Proyectos"
   ]
  },
  {
   "cell_type": "markdown",
   "metadata": {},
   "source": [
    "## QQSM"
   ]
  },
  {
   "cell_type": "markdown",
   "metadata": {},
   "source": [
    "## Adivinar la palabra"
   ]
  },
  {
   "cell_type": "markdown",
   "metadata": {},
   "source": [
    "## Aventura basada en texto"
   ]
  },
  {
   "cell_type": "code",
   "execution_count": null,
   "metadata": {},
   "outputs": [],
   "source": [
    "import random\n",
    "import time\n",
    "\n",
    "class aventura():\n",
    "    \n",
    "    def camino_norte():\n",
    "        print('--------------------------------------------------------')\n",
    "        print('Camino norte?')\n",
    "        print('▄▄▄▄▄▄▄▄▄▄▄▄▄▄▄▄▄▄▄▄▄▄▄▄▄▄▄▄▄▄▄▄▄▄▄▄▄▄▄▄▄▄▄▄▄▄▄▄▄▄▄▄▄▄')\n",
    "        print('█▀▄▀█░▄▄▀█░▄▀▄░██▄██░▄▄▀█▀▄▄▀███░▄▄▀█▀▄▄▀█░▄▄▀█▄░▄█░▄▄')\n",
    "        print('█░█▀█░▀▀░█░█▄█░██░▄█░██░█░██░███░██░█░██░█░▀▀▄██░██░▄▄')\n",
    "        print('██▄██▄██▄█▄███▄█▄▄▄█▄██▄██▄▄████▄██▄██▄▄██▄█▄▄██▄██▄▄▄')\n",
    "        print('▀▀▀▀▀▀▀▀▀▀▀▀▀▀▀▀▀▀▀▀▀▀▀▀▀▀▀▀▀▀▀▀▀▀▀▀▀▀▀▀▀▀▀▀▀▀▀▀▀▀▀▀▀▀')\n",
    "        print('--------------------------------------------------------')\n",
    "        \n",
    "        \n",
    "        respNorte = input('Encuentra un puente... ¿Cruzar? ¿y/n?')\n",
    "        if respNorte == 'y':\n",
    "            aventura.pelea_troll()\n",
    "        elif respNorte == 'n':\n",
    "            aventura.start()\n",
    "            \n",
    "        \n",
    "    def camino_sur():\n",
    "        print('--------------------------------------------------------')\n",
    "        print('Camino sur?')\n",
    "        print('▄▄▄▄▄▄▄▄▄▄▄▄▄▄▄▄▄▄▄▄▄▄▄▄▄▄▄▄▄▄▄▄▄▄▄▄▄▄▄▄▄▄▄▄▄')\n",
    "        print('█▀▄▀█░▄▄▀█░▄▀▄░██▄██░▄▄▀█▀▄▄▀███░▄▄█░██░█░▄▄▀')\n",
    "        print('█░█▀█░▀▀░█░█▄█░██░▄█░██░█░██░███▄▄▀█░██░█░▀▀▄')\n",
    "        print('██▄██▄██▄█▄███▄█▄▄▄█▄██▄██▄▄████▄▄▄██▄▄▄█▄█▄▄')\n",
    "        print('▀▀▀▀▀▀▀▀▀▀▀▀▀▀▀▀▀▀▀▀▀▀▀▀▀▀▀▀▀▀▀▀▀▀▀▀▀▀▀▀▀▀▀▀▀')\n",
    "        \n",
    "        respSur = input('Encuentra un bosque... ¿Entrar? ¿y/n?')\n",
    "        if respSur == 'y':\n",
    "            aventura.pelea_oso()\n",
    "        elif respSur == 'n':\n",
    "            aventura.start()\n",
    "        \n",
    "    def pelea_troll():\n",
    "        print('--------------------------------------------------------')\n",
    "        print('Hay un troll frente al puente...')\n",
    "        print('           __,= ---- =/__')\n",
    "        print('              (o) \\(o) \\            _,-,')\n",
    "        print('         //|     ,_)   (       ,-  _,- ')\n",
    "        print('       ,-~~~\\    ===  /-,       == \\__')\n",
    "        print('      /         ----                   ')\n",
    "        \n",
    "        respTroll = input('¿Atacar? ¿y/n?')\n",
    "        ataque = 0\n",
    "        \n",
    "        if respTroll == 'y':\n",
    "            ataque = random.randint(1, 20)\n",
    "            \n",
    "            if ataque >= 12:\n",
    "                time.sleep(1)\n",
    "                print('.')\n",
    "                time.sleep(1)\n",
    "                print('..')\n",
    "                time.sleep(1)\n",
    "                print('...')\n",
    "                time.sleep(1)\n",
    "                print(f'Haces {ataque} de daño, el troll muere...')\n",
    "                print('           __,= ---- =/__')\n",
    "                print('              (X) \\(X) \\            _,-,')\n",
    "                print('         //|     ,_)   (       ,-  _,- ')\n",
    "                print('       ,-~~~\\    ===  /-,       == \\__')\n",
    "                print('      /         ----                   ')\n",
    "                aventura.win()\n",
    "            else:\n",
    "                time.sleep(1)\n",
    "                print('.')\n",
    "                time.sleep(1)\n",
    "                print('..')\n",
    "                time.sleep(1)\n",
    "                print('...')\n",
    "                time.sleep(1)\n",
    "                print(f'Haces {ataque} de daño, el troll te come...')\n",
    "                    \n",
    "                print('You died...')\n",
    "                print('  _____')\n",
    "                print('/      \\%')\n",
    "                print('| () () |')\n",
    "                print(' \\  ^  /')\n",
    "                print('  |||||')\n",
    "                print('  |||||')\n",
    "                aventura.fin()\n",
    "        elif respTroll == 'n':\n",
    "            aventura.start()\n",
    "        \n",
    "        else:\n",
    "            print('No entiendo, intente de nuevo...')\n",
    "            aventura.start()\n",
    "\n",
    "                \n",
    "                       \n",
    "    \n",
    "    def pelea_oso():\n",
    "        print('--------------------------------------------------------')\n",
    "        print('Un oso lo persigue...')\n",
    "        print('    .--.              .--.')\n",
    "        print(' : (   . _......_ .  ) :')\n",
    "        print('  .                  .' )\n",
    "        print('       _        _      ')\n",
    "        print('       0}      {0      ')\n",
    "        print(' |       /      \\%       |')\n",
    "        print(' |     /         \\%     |')\n",
    "        print(' \\   | .  .==.  . |   /')\n",
    "        print('  ._ \\%.  \\%__/  ./ _.')\n",
    "        print(' jgs      ._- -_.   ')\n",
    "        print('.')\n",
    "        time.sleep(1)\n",
    "        print('..')\n",
    "        time.sleep(1)\n",
    "        print('...')\n",
    "        time.sleep(1)\n",
    "        print('You died...')\n",
    "        print('  _____')\n",
    "        print('/      \\%')\n",
    "        print('| () () |')\n",
    "        print(' \\  ^  /')\n",
    "        print('  |||||')\n",
    "        print('  |||||')\n",
    "        aventura.fin()\n",
    "        \n",
    "        \n",
    "    def fin():\n",
    "        print('--------------------------------------------------------')\n",
    "        print('RIP...')\n",
    "        \n",
    "        resp_fin = input('¿Jugar de nuevo?')\n",
    "        \n",
    "        if resp_fin == 'y':\n",
    "            aventura.start()\n",
    "        else:\n",
    "            print(1)\n",
    "    \n",
    "    def win():\n",
    "        print('--------------------------------------------------------')\n",
    "        print('¡Has ganado!')\n",
    "        \n",
    "        resp_fin = input('¿Jugar de nuevo?')\n",
    "        \n",
    "        if resp_fin == 'y':\n",
    "            aventura.start()\n",
    "        else:\n",
    "            print(1)\n",
    "        \n",
    "    def start():\n",
    "        print('--------------------------------------------------------')\n",
    "        print('Está en un bosque...')\n",
    "        print('Hay dos caminos, norte y sur ¿Cuál elige?')\n",
    "        \n",
    "        resp1 = input('>').lower()\n",
    "        \n",
    "        if resp1 == 'norte':\n",
    "            print('Camina hacia el norte durante...', random.randint(15, 150), 'minutos')\n",
    "            aventura.camino_norte()\n",
    "        elif resp1 == 'sur':\n",
    "            print('Camina al sur...')\n",
    "            aventura.camino_sur()\n",
    "        else:\n",
    "            print('No entiendo, intente de nuevo...')\n",
    "            aventura.start()\n",
    "        \n",
    "aventura.start()"
   ]
  },
  {
   "cell_type": "markdown",
   "metadata": {},
   "source": [
    "## Generador de contraseñas"
   ]
  },
  {
   "cell_type": "code",
   "execution_count": 3,
   "metadata": {},
   "outputs": [
    {
     "name": "stdout",
     "output_type": "stream",
     "text": [
      "abcdefghijklmnopqrstuvwxyzABCDEFGHIJKLMNOPQRSTUVWXYZ\n",
      "0123456789\n",
      "!\"#$%&'()*+,-./:;<=>?@[\\]^_`{|}~\n"
     ]
    }
   ],
   "source": [
    "import string\n",
    "\n",
    "print(string.ascii_letters)\n",
    "print(string.digits)\n",
    "print(string.punctuation)"
   ]
  },
  {
   "cell_type": "code",
   "execution_count": 74,
   "metadata": {},
   "outputs": [],
   "source": [
    "import string\n",
    "import tkinter as tk\n",
    "from tkinter import ttk\n",
    "from random import *\n",
    "\n",
    "def generarContra(size: int=4) -> str:\n",
    "    characters = string.ascii_letters + string.punctuation + string.digits\n",
    "    return \"\".join(choice(characters) for x in range(size))"
   ]
  },
  {
   "cell_type": "code",
   "execution_count": 76,
   "metadata": {},
   "outputs": [
    {
     "data": {
      "text/plain": [
       "'@j.I'"
      ]
     },
     "execution_count": 76,
     "metadata": {},
     "output_type": "execute_result"
    }
   ],
   "source": [
    "generarContra()"
   ]
  },
  {
   "cell_type": "code",
   "execution_count": 90,
   "metadata": {},
   "outputs": [],
   "source": [
    "root = tk.Tk() #crea la instancia de la clase Tk\n",
    "root.geometry('300x150')\n",
    "# Mostrar un mensaje\n",
    "message = tk.Text(root, height=1)\n",
    "message.insert(1.0, generarContra(8))\n",
    "message.pack()\n",
    "\n",
    "message.configure(bg=root.cget('bg'), relief='flat')\n",
    "\n",
    "message.configure(state='disabled')\n",
    "\n",
    "root.mainloop() #mantiene el objeto de la ventana abierta"
   ]
  }
 ],
 "metadata": {
  "kernelspec": {
   "display_name": "Python [conda env:pyvizenv]",
   "language": "python",
   "name": "conda-env-pyvizenv-py"
  },
  "language_info": {
   "codemirror_mode": {
    "name": "ipython",
    "version": 3
   },
   "file_extension": ".py",
   "mimetype": "text/x-python",
   "name": "python",
   "nbconvert_exporter": "python",
   "pygments_lexer": "ipython3",
   "version": "3.7.9"
  }
 },
 "nbformat": 4,
 "nbformat_minor": 4
}
