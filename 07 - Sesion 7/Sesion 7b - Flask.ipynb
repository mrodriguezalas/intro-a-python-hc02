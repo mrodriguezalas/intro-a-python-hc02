{
 "cells": [
  {
   "cell_type": "markdown",
   "metadata": {},
   "source": [
    "# Flask\n",
    "- Flask es un micro framework para desarrollo web en Python, esto significa que trata de mantener las funcionalidades básicas para el desarrollo de aplicaciones, pero siempre manteniendo la posibilidad de extender las opciones de nuestro framework, tales como bases de datos, el motor de templates, la abstracción de la base de datos, validación, autenticación, y otras librerías.\n",
    "- Flask utiliza las carpetas de `templates` para renderizar los templates de html y la carpeta `static` para guardar archivos de javascript y de estilos para nuestras aplicaciones.\n",
    "[Documentación de Flask](https://flask.palletsprojects.com/en/2.0.x/)"
   ]
  },
  {
   "cell_type": "code",
   "execution_count": null,
   "metadata": {},
   "outputs": [],
   "source": []
  }
 ],
 "metadata": {
  "kernelspec": {
   "display_name": "Python [conda env:pyvizenv]",
   "language": "python",
   "name": "conda-env-pyvizenv-py"
  },
  "language_info": {
   "codemirror_mode": {
    "name": "ipython",
    "version": 3
   },
   "file_extension": ".py",
   "mimetype": "text/x-python",
   "name": "python",
   "nbconvert_exporter": "python",
   "pygments_lexer": "ipython3",
   "version": "3.7.9"
  }
 },
 "nbformat": 4,
 "nbformat_minor": 4
}
