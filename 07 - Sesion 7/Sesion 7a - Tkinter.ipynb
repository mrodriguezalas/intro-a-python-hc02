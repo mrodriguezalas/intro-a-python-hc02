{
 "cells": [
  {
   "cell_type": "markdown",
   "metadata": {},
   "source": [
    "# Tkinter \n",
    "- Es una librería de interfaz gráfica para crear aplicaciones de escritorio, con elementos como ventanas, íconos, y botones.\n",
    "- Es una librería de código abierto, y es famosa por su simplicidad y flexibilidad, viene preinstalada con Python 3.\n",
    "- Utiliza el concepto de widgets:\n",
    "    - Frame\n",
    "    - Button\n",
    "    - Entry\n",
    "    - Check button\n",
    "    - Radio button\n",
    "    - Label\n",
    "    - Menu\n",
    "    - ComboBox\n",
    "    - List Box\n",
    "    - Menu button\n",
    "    - Canvas\n",
    "    - Scale\n",
    "    - Scrollbar\n",
    "    - Text\n",
    "    - File dialog\n",
    "    - Toplevel"
   ]
  },
  {
   "cell_type": "code",
   "execution_count": 1,
   "metadata": {},
   "outputs": [],
   "source": [
    "# Comencemos con los imports\n",
    "from tkinter import *"
   ]
  },
  {
   "cell_type": "code",
   "execution_count": 16,
   "metadata": {},
   "outputs": [],
   "source": [
    "# Crear una ventana\n",
    "window = Tk()\n",
    "window.title('Mi primer GUI')\n",
    "window.geometry('400x300')\n",
    "window.mainloop()"
   ]
  },
  {
   "cell_type": "code",
   "execution_count": 22,
   "metadata": {},
   "outputs": [],
   "source": [
    "# Añadir un label, y un botón\n",
    "window = Tk()\n",
    "window.title('Un label y un botón')\n",
    "window.geometry('400x300')\n",
    "\n",
    "lab = Label(window, text='Esto es un label')\n",
    "lab.pack(side='right')\n",
    "\n",
    "btn = Button(window, text='Un botón', bd='2', command=window.destroy)\n",
    "btn.pack(side='top')\n",
    "window.mainloop()"
   ]
  },
  {
   "cell_type": "code",
   "execution_count": 24,
   "metadata": {},
   "outputs": [],
   "source": [
    "# Añadir un label, un entry y un botón\n",
    "window = Tk()\n",
    "window.title('Un label y un botón')\n",
    "window.geometry('400x300')\n",
    "\n",
    "lab = Label(window, text='Esto es un label')\n",
    "lab.pack(side='top')\n",
    "\n",
    "btn = Button(window, text='Un botón', bd='2', command=window.destroy)\n",
    "btn.pack(side='top')\n",
    "\n",
    "ent = Entry(window)\n",
    "ent.pack(side='top')\n",
    "window.mainloop()"
   ]
  },
  {
   "cell_type": "code",
   "execution_count": 29,
   "metadata": {},
   "outputs": [],
   "source": [
    "# Grid layout\n",
    "window = Tk()\n",
    "window.title('Grid layout')\n",
    "window.geometry('400x300')\n",
    "\n",
    "lab1 = Label(window, text='Introduzca su nombre')\n",
    "lab1.grid(row=0, column=0)\n",
    "\n",
    "inp1 = Entry(window)\n",
    "inp1.grid(row=0, column=1)\n",
    "\n",
    "lab2 = Label(window, text='Introduzca su apellido')\n",
    "lab2.grid(row=1, column=0)\n",
    "\n",
    "inp2 = Entry(window)\n",
    "inp2.grid(row=1, column=1)\n",
    "\n",
    "window.mainloop()"
   ]
  },
  {
   "cell_type": "code",
   "execution_count": 33,
   "metadata": {},
   "outputs": [],
   "source": [
    "# Place layout\n",
    "window = Tk()\n",
    "window.title('Place layout')\n",
    "window.geometry('400x300')\n",
    "\n",
    "lab1 = Label(window, text='Introduzca su nombre')\n",
    "lab1.place(x=10, y=100)\n",
    "\n",
    "inp1 = Entry(window)\n",
    "inp1.place(x=150, y=100)\n",
    "\n",
    "lab2 = Label(window, text='Introduzca su apellido')\n",
    "lab2.place(x=10, y=50)\n",
    "\n",
    "inp2 = Entry(window)\n",
    "inp2.place(x=150, y=50)\n",
    "\n",
    "window.mainloop()"
   ]
  },
  {
   "cell_type": "code",
   "execution_count": 39,
   "metadata": {},
   "outputs": [],
   "source": [
    "# Tkinter controls\n",
    "window = Tk()\n",
    "window.title('Place layout')\n",
    "#window.geometry('400x300')\n",
    "window.maxsize(200, 200)\n",
    "\n",
    "lab1 = Label(window, text='Introduzca su nombre')\n",
    "lab1.pack()\n",
    "\n",
    "\n",
    "window.mainloop()"
   ]
  },
  {
   "cell_type": "code",
   "execution_count": 40,
   "metadata": {},
   "outputs": [],
   "source": [
    "# Tkinter controls\n",
    "window = Tk()\n",
    "window.title('Place layout')\n",
    "#window.geometry('400x300')\n",
    "window.minsize(200, 200)\n",
    "\n",
    "lab1 = Label(window, text='Introduzca su nombre')\n",
    "lab1.pack()\n",
    "\n",
    "\n",
    "window.mainloop()"
   ]
  },
  {
   "cell_type": "code",
   "execution_count": 43,
   "metadata": {},
   "outputs": [],
   "source": [
    "# Tkinter controls - disabled\n",
    "window = Tk()\n",
    "window.title('Place layout')\n",
    "#window.geometry('400x300')\n",
    "window.minsize(200, 200)\n",
    "\n",
    "ent1 = Entry(window, state=DISABLED).pack()\n",
    "\n",
    "window.mainloop()"
   ]
  },
  {
   "cell_type": "markdown",
   "metadata": {},
   "source": [
    "## El módulo TTK\n",
    "Ttk es un submódulo de Tkinter que contiene funciones y widgets adicionales"
   ]
  },
  {
   "cell_type": "code",
   "execution_count": 44,
   "metadata": {},
   "outputs": [],
   "source": [
    "from tkinter.ttk import *"
   ]
  },
  {
   "cell_type": "code",
   "execution_count": 48,
   "metadata": {},
   "outputs": [],
   "source": [
    "# Tkinter controls - disabled\n",
    "window = Tk()\n",
    "window.title('Place layout')\n",
    "#window.geometry('400x300')\n",
    "window.minsize(200, 200)\n",
    "\n",
    "ent1 = Entry(window, state=DISABLED).pack()\n",
    "\n",
    "style = Style()\n",
    "style.configure('a.TButton', font=('calibri', 12, 'bold', 'underline'), foreground='red')\n",
    "\n",
    "btn1 = Button(window, text='Click me', style='a.TButton').pack()\n",
    "\n",
    "window.mainloop()"
   ]
  },
  {
   "cell_type": "code",
   "execution_count": 51,
   "metadata": {},
   "outputs": [],
   "source": [
    "# Tkinter controls - image\n",
    "window = Tk()\n",
    "window.title('Place layout')\n",
    "#window.geometry('400x300')\n",
    "window.minsize(200, 200)\n",
    "\n",
    "ent1 = Entry(window, state=DISABLED).pack()\n",
    "\n",
    "style = Style()\n",
    "style.configure('a.TButton', font=('calibri', 12, 'bold', 'underline'), foreground='red')\n",
    "photo = PhotoImage(file='abra.png')\n",
    "\n",
    "btn1 = Button(window, text='Click me', style='a.TButton', image=photo, compound=LEFT).pack()\n",
    "\n",
    "window.mainloop()"
   ]
  },
  {
   "cell_type": "code",
   "execution_count": 53,
   "metadata": {},
   "outputs": [],
   "source": [
    "# Tkinter controls - radio button\n",
    "window = Tk()\n",
    "window.title('Place layout')\n",
    "#window.geometry('400x300')\n",
    "window.minsize(200, 200)\n",
    "\n",
    "ent1 = Entry(window, state=DISABLED).pack()\n",
    "\n",
    "style = Style()\n",
    "style.configure('a.TButton', font=('calibri', 12, 'bold', 'underline'), foreground='red')\n",
    "photo = PhotoImage(file='abra.png')\n",
    "\n",
    "btn1 = Button(window, text='Click me', style='a.TButton', image=photo, compound=LEFT, command=window.destroy).pack()\n",
    "\n",
    "radio1 = Radiobutton(window, text='Option 1', variable='options', value='Option1').pack()\n",
    "radio1 = Radiobutton(window, text='Option 2', variable='options', value='Option2').pack()\n",
    "\n",
    "window.mainloop()"
   ]
  },
  {
   "cell_type": "code",
   "execution_count": 56,
   "metadata": {},
   "outputs": [],
   "source": [
    "# Tkinter controls - checkbutton\n",
    "window = Tk()\n",
    "window.title('Place layout')\n",
    "#window.geometry('400x300')\n",
    "window.minsize(200, 200)\n",
    "\n",
    "ent1 = Entry(window, state=DISABLED).pack()\n",
    "\n",
    "style = Style()\n",
    "style.configure('a.TButton', font=('calibri', 12, 'bold', 'underline'), foreground='red')\n",
    "photo = PhotoImage(file='abra.png')\n",
    "\n",
    "btn1 = Button(window, text='Click me', style='a.TButton', image=photo, compound=LEFT, command=window.destroy).pack()\n",
    "\n",
    "radio1 = Radiobutton(window, text='Option 1', variable='options', value='Option1').pack()\n",
    "radio1 = Radiobutton(window, text='Option 2', variable='options', value='Option2').pack()\n",
    "\n",
    "check1 = Checkbutton(window, text='Check 1', variable='check1', onvalue=1, offvalue=0).pack()\n",
    "check2 = Checkbutton(window, text='Check 2', variable='check2', onvalue=1, offvalue=0).pack()\n",
    "\n",
    "window.mainloop()"
   ]
  },
  {
   "cell_type": "code",
   "execution_count": 58,
   "metadata": {},
   "outputs": [],
   "source": [
    "# Tkinter controls - combobox\n",
    "window = Tk()\n",
    "window.title('Place layout')\n",
    "#window.geometry('400x300')\n",
    "window.minsize(200, 200)\n",
    "\n",
    "style = Style()\n",
    "style.configure('a.TButton', font=('calibri', 12, 'bold', 'underline'), foreground='red')\n",
    "photo = PhotoImage(file='abra.png')\n",
    "\n",
    "btn1 = Button(window, text='Click me', style='a.TButton', image=photo, compound=LEFT, command=window.destroy).pack()\n",
    "\n",
    "nombres = ('Jon', 'Jane', 'James', 'Jocko', 'Jesus', 'Jana', 'Jeny', 'Jim', 'Juan')\n",
    "combo = Combobox(window, values=nombres).pack()\n",
    "\n",
    "window.mainloop()"
   ]
  },
  {
   "cell_type": "code",
   "execution_count": 60,
   "metadata": {},
   "outputs": [],
   "source": [
    "# Tkinter controls - text\n",
    "window = Tk()\n",
    "window.title('Place layout')\n",
    "#window.geometry('400x300')\n",
    "window.minsize(200, 200)\n",
    "\n",
    "t = Text(window, height=5, width=30).pack()\n",
    "\n",
    "window.mainloop()"
   ]
  },
  {
   "cell_type": "code",
   "execution_count": 61,
   "metadata": {},
   "outputs": [],
   "source": [
    "# Tkinter controls - message\n",
    "window = Tk()\n",
    "window.title('Place layout')\n",
    "#window.geometry('400x300')\n",
    "window.minsize(200, 200)\n",
    "\n",
    "msg = Message(window, text='Esto es un mensaje').pack()\n",
    "\n",
    "window.mainloop()"
   ]
  },
  {
   "cell_type": "code",
   "execution_count": 64,
   "metadata": {},
   "outputs": [],
   "source": [
    "# Tkinter controls - spinbox\n",
    "window = Tk()\n",
    "window.title('Place layout')\n",
    "#window.geometry('400x300')\n",
    "window.minsize(200, 200)\n",
    "\n",
    "sp = Spinbox(window, from_=0, to=20).pack()\n",
    "\n",
    "window.mainloop()"
   ]
  },
  {
   "cell_type": "code",
   "execution_count": 68,
   "metadata": {},
   "outputs": [],
   "source": [
    "# Tkinter controls - listbox\n",
    "window = Tk()\n",
    "window.title('Place layout')\n",
    "#window.geometry('400x300')\n",
    "window.minsize(200, 200)\n",
    "\n",
    "lstbx = Listbox(window)\n",
    "lstbx.insert(1, 'CRC')\n",
    "lstbx.insert(2, 'ESV')\n",
    "lstbx.insert(3, 'NIC')\n",
    "lstbx.pack()\n",
    "\n",
    "\n",
    "window.mainloop()"
   ]
  },
  {
   "cell_type": "code",
   "execution_count": 69,
   "metadata": {},
   "outputs": [],
   "source": [
    "# Tkinter controls - menu\n",
    "window = Tk()\n",
    "window.title('Place layout')\n",
    "#window.geometry('400x300')\n",
    "window.minsize(200, 200)\n",
    "\n",
    "menubar = Menu(window)\n",
    "menubar.add_command(label='Comando')\n",
    "menubar.add_command(label='Configuración')\n",
    "window.config(menu=menubar)\n",
    "\n",
    "window.mainloop()"
   ]
  },
  {
   "cell_type": "code",
   "execution_count": 73,
   "metadata": {},
   "outputs": [],
   "source": [
    "# Tkinter controls - scale\n",
    "window = Tk()\n",
    "window.title('Place layout')\n",
    "#window.geometry('400x300')\n",
    "window.minsize(200, 200)\n",
    "\n",
    "v = DoubleVar()\n",
    "scale = Scale(window, variable=v, from_=1, to=15).pack()\n",
    "\n",
    "window.mainloop()"
   ]
  },
  {
   "cell_type": "code",
   "execution_count": 76,
   "metadata": {},
   "outputs": [],
   "source": [
    "# Tkinter controls - warning\n",
    "from tkinter import messagebox\n",
    "\n",
    "window = Tk()\n",
    "window.title('Place layout')\n",
    "#window.geometry('400x300')\n",
    "window.minsize(200, 200)\n",
    "\n",
    "messagebox.showwarning('Warning', 'Warning')\n",
    "\n",
    "window.mainloop()"
   ]
  },
  {
   "cell_type": "code",
   "execution_count": null,
   "metadata": {},
   "outputs": [],
   "source": [
    "# Tkinter controls - warning\n",
    "from tkinter import messagebox\n",
    "\n",
    "window = Tk()\n",
    "window.title('Place layout')\n",
    "#window.geometry('400x300')\n",
    "window.minsize(200, 200)\n",
    "\n",
    "messagebox.showwarning('Warning', 'Warning')\n",
    "messagebox.showerror('Error', 'Error')\n",
    "messagebox.askquestion('Confirmar', '¿Seguro?')\n",
    "messagebox.askokcancel('Sí', 'Cancelar')\n",
    "messagebox.askyesno('Sí', 'No')\n",
    "messagebox.askretrycancel('Reintentar', 'Cancelar')\n",
    "\n",
    "window.mainloop()"
   ]
  },
  {
   "cell_type": "code",
   "execution_count": null,
   "metadata": {},
   "outputs": [],
   "source": []
  }
 ],
 "metadata": {
  "kernelspec": {
   "display_name": "Python [conda env:pyvizenv]",
   "language": "python",
   "name": "conda-env-pyvizenv-py"
  },
  "language_info": {
   "codemirror_mode": {
    "name": "ipython",
    "version": 3
   },
   "file_extension": ".py",
   "mimetype": "text/x-python",
   "name": "python",
   "nbconvert_exporter": "python",
   "pygments_lexer": "ipython3",
   "version": "3.7.9"
  }
 },
 "nbformat": 4,
 "nbformat_minor": 4
}
