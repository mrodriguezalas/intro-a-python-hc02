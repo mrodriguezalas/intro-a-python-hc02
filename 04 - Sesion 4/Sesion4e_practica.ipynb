{
 "cells": [
  {
   "cell_type": "markdown",
   "metadata": {},
   "source": [
    "# Practica "
   ]
  },
  {
   "cell_type": "markdown",
   "metadata": {},
   "source": [
    "Vamos a trabajar con un archivo .csv llamado ExoTest."
   ]
  },
  {
   "cell_type": "markdown",
   "metadata": {},
   "source": [
    "\n",
    "        ETIQUETA -> 2 es una estrella de exoplanetas y 1 es una estrella que no es de exoplanetas.\n",
    "        FLUX1-FLUX3197 -> la intensidad de luz registrada para cada estrella, en un punto diferente en el tiempo."
   ]
  },
  {
   "cell_type": "markdown",
   "metadata": {},
   "source": [
    "Los datos describen el cambio en el flujo (intensidad de la luz) de varios miles de estrellas. Cada estrella tiene una etiqueta binaria de 2 o 1. 2 indica que se confirma que la estrella tiene al menos un exoplaneta en órbita; algunas observaciones son de hecho sistemas de varios planetas.\n",
    "\n",
    "Como puedes imaginar, los planetas en sí mismos no emiten luz, pero sí las estrellas que orbitan. Si dicha estrella se observa durante varios meses o años, puede haber un \"oscurecimiento\" regular del flujo (la intensidad de la luz). Esto es evidencia de que puede haber un cuerpo en órbita alrededor de la estrella; tal estrella podría considerarse un sistema \"candidato\". Un estudio más detallado de nuestro sistema candidato, por ejemplo, mediante un satélite que captura luz en una longitud de onda diferente, podría solidificar la creencia de que el candidato puede, de hecho, ser \"confirmado\"."
   ]
  },
  {
   "cell_type": "markdown",
   "metadata": {},
   "source": [
    "Generalidades:\n",
    "\n",
    "    570 filas u observaciones.\n",
    "    3198 columnas o características.\n",
    "    La columna 1 es el vector de etiqueta. Las columnas 2 a 3198 son los valores de flujo a lo largo del tiempo.\n",
    "    5 estrellas de exoplanetas confirmadas y 565 estrellas que no son de exoplanetas."
   ]
  },
  {
   "cell_type": "markdown",
   "metadata": {},
   "source": [
    "**Derechos:**\n",
    "Los datos presentados aquí están limpios y se derivan de las observaciones realizadas por el telescopio espacial Kepler de la NASA. La Misión está en curso; por ejemplo, los datos de la Campaña 12 se publicaron el 8 de marzo de 2017. Más del 99% de este conjunto de datos se origina en la Campaña 3. Para aumentar el número de estrellas de exoplanetas en el conjunto de datos, también se incluyeron exoplanetas confirmados de otras campañas.\n",
    "\n",
    "Para ser claros, se incluyen todas las observaciones de la Campaña 3. Y además de esto, también se incluyen estrellas de exoplanetas confirmadas de otras campañas.\n",
    "\n",
    "Los conjuntos de datos se prepararon a fines del verano de 2016.\n",
    "\n",
    "Se utilizó la Campaña 3 porque 'se consideró' que es poco probable que esta Campaña contenga exoplanetas no descubiertos (es decir, etiquetados incorrectamente).\n",
    "\n",
    "La NASA abre los datos originales de la Misión Kepler y está alojada en el Archivo Mikulski. Después de ser transmitido a la Tierra, la NASA aplica algoritmos de eliminación de ruido para eliminar los artefactos generados por el telescopio. Los datos, en formato .fits, se almacenan en línea. Y con la ayuda de un astrofísico experimentado, cualquier persona con conexión a Internet puede embarcarse en una búsqueda para encontrar y recuperar los archivos de datos del Archivo."
   ]
  },
  {
   "cell_type": "markdown",
   "metadata": {},
   "source": [
    "**Entender los datos con los que se trabaja**\n",
    "\n",
    "1)Importe los datos del CSV a un dataframe de Python"
   ]
  },
  {
   "cell_type": "code",
   "execution_count": null,
   "metadata": {},
   "outputs": [],
   "source": []
  },
  {
   "cell_type": "code",
   "execution_count": null,
   "metadata": {},
   "outputs": [],
   "source": []
  },
  {
   "cell_type": "markdown",
   "metadata": {},
   "source": [
    "2) ¿Cuántas filas son de estrellas de exoplanetas?"
   ]
  },
  {
   "cell_type": "code",
   "execution_count": null,
   "metadata": {},
   "outputs": [],
   "source": []
  },
  {
   "cell_type": "markdown",
   "metadata": {},
   "source": [
    "3) Muestre las filas que tienen Label 2"
   ]
  },
  {
   "cell_type": "code",
   "execution_count": null,
   "metadata": {},
   "outputs": [],
   "source": []
  },
  {
   "cell_type": "markdown",
   "metadata": {},
   "source": [
    "**Crear columnas para etiquetar filas**"
   ]
  },
  {
   "cell_type": "markdown",
   "metadata": {},
   "source": [
    "1)Cree un script que recorra la columna LABEL y según su valor defina el campo de una nueva columna como \"candidato\" o \"rechazado\""
   ]
  },
  {
   "cell_type": "code",
   "execution_count": null,
   "metadata": {},
   "outputs": [],
   "source": []
  },
  {
   "cell_type": "code",
   "execution_count": null,
   "metadata": {},
   "outputs": [],
   "source": []
  },
  {
   "cell_type": "code",
   "execution_count": null,
   "metadata": {},
   "outputs": [],
   "source": []
  },
  {
   "cell_type": "code",
   "execution_count": null,
   "metadata": {},
   "outputs": [],
   "source": []
  },
  {
   "cell_type": "markdown",
   "metadata": {},
   "source": [
    "3) Por medio de un while cuente todos las filas cuyo FLUX.8 divido entre su FLUX.3121 de un número par"
   ]
  },
  {
   "cell_type": "code",
   "execution_count": null,
   "metadata": {},
   "outputs": [],
   "source": []
  },
  {
   "cell_type": "code",
   "execution_count": null,
   "metadata": {},
   "outputs": [],
   "source": []
  }
 ],
 "metadata": {
  "kernelspec": {
   "display_name": "Python 3",
   "language": "python",
   "name": "python3"
  },
  "language_info": {
   "codemirror_mode": {
    "name": "ipython",
    "version": 3
   },
   "file_extension": ".py",
   "mimetype": "text/x-python",
   "name": "python",
   "nbconvert_exporter": "python",
   "pygments_lexer": "ipython3",
   "version": "3.7.6"
  }
 },
 "nbformat": 4,
 "nbformat_minor": 4
}
