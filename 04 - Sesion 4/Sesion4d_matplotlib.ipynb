{
 "cells": [
  {
   "cell_type": "markdown",
   "metadata": {},
   "source": [
    "# Sesión 4 - Matplotlib\n",
    "\n",
    "- Visualizar nuestros datos nos da un entendimiento intuitivo de los mismos.\n",
    "- Nos ayuda a encontrar patrones\n",
    "- Matplotlib es solo una de las librerías de visualización, e.g. seaborn\n",
    "- "
   ]
  },
  {
   "cell_type": "markdown",
   "metadata": {},
   "source": [
    "# Numpy"
   ]
  },
  {
   "cell_type": "code",
   "execution_count": null,
   "metadata": {},
   "outputs": [],
   "source": [
    "!pip install pandas"
   ]
  },
  {
   "cell_type": "code",
   "execution_count": 1,
   "metadata": {},
   "outputs": [
    {
     "data": {
      "text/plain": [
       "[58, 26, 92, 5, 22, 13, 32, 24, 78]"
      ]
     },
     "execution_count": 1,
     "metadata": {},
     "output_type": "execute_result"
    }
   ],
   "source": [
    "# Creamos 2 listas al azar\n",
    "import numpy as np\n",
    "import random\n",
    "from matplotlib import pyplot as plt\n",
    "\n",
    "x = []\n",
    "\n",
    "for i in range(1, 10):\n",
    "    x.append(random.randrange(1, 100,1))\n",
    "x"
   ]
  },
  {
   "cell_type": "code",
   "execution_count": 2,
   "metadata": {},
   "outputs": [
    {
     "data": {
      "text/plain": [
       "[38, 46, 19, 88, 36, 24, 12, 51, 39]"
      ]
     },
     "execution_count": 2,
     "metadata": {},
     "output_type": "execute_result"
    }
   ],
   "source": [
    "y = []\n",
    "\n",
    "for i in range(1, 10):\n",
    "    y.append(random.randrange(1, 100))\n",
    "y"
   ]
  },
  {
   "cell_type": "code",
   "execution_count": 3,
   "metadata": {},
   "outputs": [
    {
     "data": {
      "image/png": "[encoded data removed]",
      "text/plain": [
       "<Figure size 432x288 with 1 Axes>"
      ]
     },
     "metadata": {
      "needs_background": "light"
     },
     "output_type": "display_data"
    }
   ],
   "source": [
    "plt.scatter(x, y)\n",
    "plt.title(\"Nuestro scatter plot con Matplotlib\")\n",
    "plt.xlabel('Lista random x')\n",
    "plt.ylabel('Lista random y')\n",
    "plt.show()"
   ]
  },
  {
   "cell_type": "code",
   "execution_count": 4,
   "metadata": {},
   "outputs": [
    {
     "data": {
      "text/plain": [
       "[28, 23, 53, 78, 92, 62, 70, 93, 36]"
      ]
     },
     "execution_count": 4,
     "metadata": {},
     "output_type": "execute_result"
    }
   ],
   "source": [
    "# Agreguemos otra lista al azar z\n",
    "z = []\n",
    "\n",
    "for i in range(1, 10):\n",
    "    z.append(random.randrange(1, 100))\n",
    "z"
   ]
  },
  {
   "cell_type": "code",
   "execution_count": 5,
   "metadata": {},
   "outputs": [
    {
     "data": {
      "text/plain": [
       "<matplotlib.legend.Legend at 0x2054d685f40>"
      ]
     },
     "execution_count": 5,
     "metadata": {},
     "output_type": "execute_result"
    },
    {
     "data": {
      "image/png": "[encoded data removed]",
      "text/plain": [
       "<Figure size 432x288 with 1 Axes>"
      ]
     },
     "metadata": {
      "needs_background": "light"
     },
     "output_type": "display_data"
    }
   ],
   "source": [
    "plt.scatter(x, y)\n",
    "plt.scatter(x, z)\n",
    "# podemos agregar una leyenda con el siguiente comando. Toma una lista como argumento\n",
    "plt.legend(['Lista x,y', 'Lista x,z'])"
   ]
  },
  {
   "cell_type": "markdown",
   "metadata": {},
   "source": [
    "# Pandas\n",
    "- ¿Qué es Pandas?\n",
    "- ¿Qué es un DataFrame? ¿Por qué es útil?"
   ]
  },
  {
   "cell_type": "code",
   "execution_count": 6,
   "metadata": {},
   "outputs": [],
   "source": [
    "import pandas as pd"
   ]
  },
  {
   "cell_type": "code",
   "execution_count": 7,
   "metadata": {},
   "outputs": [
    {
     "data": {
      "text/html": [
       "<div>\n",
       "<style scoped>\n",
       "    .dataframe tbody tr th:only-of-type {\n",
       "        vertical-align: middle;\n",
       "    }\n",
       "\n",
       "    .dataframe tbody tr th {\n",
       "        vertical-align: top;\n",
       "    }\n",
       "\n",
       "    .dataframe thead th {\n",
       "        text-align: right;\n",
       "    }\n",
       "</style>\n",
       "<table border=\"1\" class=\"dataframe\">\n",
       "  <thead>\n",
       "    <tr style=\"text-align: right;\">\n",
       "      <th></th>\n",
       "      <th>RadiusKm</th>\n",
       "      <th>MassKg</th>\n",
       "      <th>Densitygcm</th>\n",
       "      <th>Gravityms2</th>\n",
       "    </tr>\n",
       "    <tr>\n",
       "      <th>Body</th>\n",
       "      <th></th>\n",
       "      <th></th>\n",
       "      <th></th>\n",
       "      <th></th>\n",
       "    </tr>\n",
       "  </thead>\n",
       "  <tbody>\n",
       "    <tr>\n",
       "      <th>Mercury</th>\n",
       "      <td>2439.4000</td>\n",
       "      <td>3.302000e+23</td>\n",
       "      <td>5.4291</td>\n",
       "      <td>3.70</td>\n",
       "    </tr>\n",
       "    <tr>\n",
       "      <th>Venus</th>\n",
       "      <td>6052.0000</td>\n",
       "      <td>4.869000e+24</td>\n",
       "      <td>5.2430</td>\n",
       "      <td>8.87</td>\n",
       "    </tr>\n",
       "    <tr>\n",
       "      <th>Earth</th>\n",
       "      <td>6371.0084</td>\n",
       "      <td>5.974200e+24</td>\n",
       "      <td>5.5136</td>\n",
       "      <td>9.80</td>\n",
       "    </tr>\n",
       "    <tr>\n",
       "      <th>Mars</th>\n",
       "      <td>3389.5000</td>\n",
       "      <td>6.419100e+23</td>\n",
       "      <td>3.9341</td>\n",
       "      <td>3.71</td>\n",
       "    </tr>\n",
       "    <tr>\n",
       "      <th>Jupiter</th>\n",
       "      <td>69911.0000</td>\n",
       "      <td>1.898700e+27</td>\n",
       "      <td>1.3262</td>\n",
       "      <td>24.79</td>\n",
       "    </tr>\n",
       "    <tr>\n",
       "      <th>Saturn</th>\n",
       "      <td>58232.0000</td>\n",
       "      <td>5.685100e+26</td>\n",
       "      <td>0.6970</td>\n",
       "      <td>9.10</td>\n",
       "    </tr>\n",
       "  </tbody>\n",
       "</table>\n",
       "</div>"
      ],
      "text/plain": [
       "           RadiusKm        MassKg  Densitygcm  Gravityms2\n",
       "Body                                                     \n",
       "Mercury   2439.4000  3.302000e+23      5.4291        3.70\n",
       "Venus     6052.0000  4.869000e+24      5.2430        8.87\n",
       "Earth     6371.0084  5.974200e+24      5.5136        9.80\n",
       "Mars      3389.5000  6.419100e+23      3.9341        3.71\n",
       "Jupiter  69911.0000  1.898700e+27      1.3262       24.79\n",
       "Saturn   58232.0000  5.685100e+26      0.6970        9.10"
      ]
     },
     "execution_count": 7,
     "metadata": {},
     "output_type": "execute_result"
    }
   ],
   "source": [
    "data = pd.read_csv('planetary_data_2.csv', index_col='Body')\n",
    "data"
   ]
  },
  {
   "cell_type": "code",
   "execution_count": 8,
   "metadata": {},
   "outputs": [
    {
     "data": {
      "text/plain": [
       "Body\n",
       "Mercury     2439.4000\n",
       "Venus       6052.0000\n",
       "Earth       6371.0084\n",
       "Mars        3389.5000\n",
       "Jupiter    69911.0000\n",
       "Saturn     58232.0000\n",
       "Name: RadiusKm, dtype: float64"
      ]
     },
     "execution_count": 8,
     "metadata": {},
     "output_type": "execute_result"
    }
   ],
   "source": [
    "# Podemos llamar los datos usando el nombre de las columnas\n",
    "data.RadiusKm"
   ]
  },
  {
   "cell_type": "code",
   "execution_count": 9,
   "metadata": {},
   "outputs": [
    {
     "data": {
      "text/plain": [
       "pandas.core.frame.DataFrame"
      ]
     },
     "execution_count": 9,
     "metadata": {},
     "output_type": "execute_result"
    }
   ],
   "source": [
    "# Verificar el tipo de datos\n",
    "type(data)"
   ]
  },
  {
   "cell_type": "code",
   "execution_count": 10,
   "metadata": {},
   "outputs": [
    {
     "data": {
      "text/plain": [
       "pandas.core.series.Series"
      ]
     },
     "execution_count": 10,
     "metadata": {},
     "output_type": "execute_result"
    }
   ],
   "source": [
    "# Serie de valores\n",
    "type(data.RadiusKm)"
   ]
  },
  {
   "cell_type": "code",
   "execution_count": 11,
   "metadata": {},
   "outputs": [
    {
     "data": {
      "text/plain": [
       "RadiusKm      6.052000e+03\n",
       "MassKg        4.869000e+24\n",
       "Densitygcm    5.243000e+00\n",
       "Gravityms2    8.870000e+00\n",
       "Name: Venus, dtype: float64"
      ]
     },
     "execution_count": 11,
     "metadata": {},
     "output_type": "execute_result"
    }
   ],
   "source": [
    "# Segundo valor del DF\n",
    "data.iloc[1]"
   ]
  },
  {
   "cell_type": "code",
   "execution_count": 12,
   "metadata": {},
   "outputs": [
    {
     "data": {
      "text/html": [
       "<div>\n",
       "<style scoped>\n",
       "    .dataframe tbody tr th:only-of-type {\n",
       "        vertical-align: middle;\n",
       "    }\n",
       "\n",
       "    .dataframe tbody tr th {\n",
       "        vertical-align: top;\n",
       "    }\n",
       "\n",
       "    .dataframe thead th {\n",
       "        text-align: right;\n",
       "    }\n",
       "</style>\n",
       "<table border=\"1\" class=\"dataframe\">\n",
       "  <thead>\n",
       "    <tr style=\"text-align: right;\">\n",
       "      <th></th>\n",
       "      <th>RadiusKm</th>\n",
       "      <th>MassKg</th>\n",
       "      <th>Densitygcm</th>\n",
       "      <th>Gravityms2</th>\n",
       "    </tr>\n",
       "    <tr>\n",
       "      <th>Body</th>\n",
       "      <th></th>\n",
       "      <th></th>\n",
       "      <th></th>\n",
       "      <th></th>\n",
       "    </tr>\n",
       "  </thead>\n",
       "  <tbody>\n",
       "    <tr>\n",
       "      <th>Mercury</th>\n",
       "      <td>2439.4</td>\n",
       "      <td>3.302000e+23</td>\n",
       "      <td>5.4291</td>\n",
       "      <td>3.7</td>\n",
       "    </tr>\n",
       "  </tbody>\n",
       "</table>\n",
       "</div>"
      ],
      "text/plain": [
       "         RadiusKm        MassKg  Densitygcm  Gravityms2\n",
       "Body                                                   \n",
       "Mercury    2439.4  3.302000e+23      5.4291         3.7"
      ]
     },
     "execution_count": 12,
     "metadata": {},
     "output_type": "execute_result"
    }
   ],
   "source": [
    "data[data.index == 'Mercury']"
   ]
  },
  {
   "cell_type": "code",
   "execution_count": 13,
   "metadata": {},
   "outputs": [
    {
     "data": {
      "text/plain": [
       "Body\n",
       "Mercury    3.302000e+23\n",
       "Venus      4.869000e+24\n",
       "Earth      5.974200e+24\n",
       "Mars       6.419100e+23\n",
       "Jupiter    1.898700e+27\n",
       "Saturn     5.685100e+26\n",
       "Name: MassKg, dtype: float64"
      ]
     },
     "execution_count": 13,
     "metadata": {},
     "output_type": "execute_result"
    }
   ],
   "source": [
    "data.MassKg"
   ]
  },
  {
   "cell_type": "code",
   "execution_count": 14,
   "metadata": {},
   "outputs": [
    {
     "data": {
      "text/plain": [
       "<matplotlib.collections.PathCollection at 0x2054e380f10>"
      ]
     },
     "execution_count": 14,
     "metadata": {},
     "output_type": "execute_result"
    },
    {
     "data": {
      "image/png": "[encoded data removed]",
      "text/plain": [
       "<Figure size 432x288 with 1 Axes>"
      ]
     },
     "metadata": {
      "needs_background": "light"
     },
     "output_type": "display_data"
    }
   ],
   "source": [
    "grav = data.iloc[0][3]\n",
    "venus_grav = data.iloc[1][3]\n",
    "\n",
    "plt.scatter(data.index, data.Gravityms2)"
   ]
  },
  {
   "cell_type": "markdown",
   "metadata": {},
   "source": [
    "## Ejercicio 1 - 7 minutos\n",
    "- Grafique, utilizando un scatter plot, la densidad de los planetas.\n",
    "- Agregue un título a la gráfica \"Densidad de planetas\"\n",
    "- Agregue etiquetas correspondientes para x - y"
   ]
  },
  {
   "cell_type": "markdown",
   "metadata": {},
   "source": [
    "## Ejercicio 2 - 7 minutos\n",
    "- Grafique, utilizando un pie plot, la masa de los planetas.\n",
    "- Agregue un título a la gráfica \"Masa de planetas\"\n",
    "- Agregue etiquetas correspondientes para x - y"
   ]
  },
  {
   "cell_type": "code",
   "execution_count": 25,
   "metadata": {},
   "outputs": [
    {
     "data": {
      "text/plain": [
       "([<matplotlib.patches.Wedge at 0x2054e727d30>,\n",
       "  <matplotlib.patches.Wedge at 0x2054e731250>,\n",
       "  <matplotlib.patches.Wedge at 0x2054e7316d0>,\n",
       "  <matplotlib.patches.Wedge at 0x2054e731b50>,\n",
       "  <matplotlib.patches.Wedge at 0x2054e731fd0>,\n",
       "  <matplotlib.patches.Wedge at 0x2054e73a430>],\n",
       " [Text(1.0999999036937167, 0.000460297527806988, 'Mercury'),\n",
       "  Text(1.0999729943449947, 0.007707899305685086, 'Venus'),\n",
       "  Text(1.0997632335284881, 0.0228217041205125, 'Earth'),\n",
       "  Text(1.0995332342649276, 0.03204164082733706, 'Mars'),\n",
       "  Text(-0.8374288302993683, 0.7132411613076127, 'Jupiter'),\n",
       "  Text(0.8266556753492815, -0.725699934141394, 'Saturn')])"
      ]
     },
     "execution_count": 25,
     "metadata": {},
     "output_type": "execute_result"
    },
    {
     "data": {
      "image/png": "[encoded data removed]",
      "text/plain": [
       "<Figure size 432x288 with 1 Axes>"
      ]
     },
     "metadata": {},
     "output_type": "display_data"
    }
   ],
   "source": [
    "plt.pie(data.MassKg, labels=data.index)"
   ]
  },
  {
   "cell_type": "code",
   "execution_count": 17,
   "metadata": {},
   "outputs": [
    {
     "data": {
      "image/png": "[encoded data removed]",
      "text/plain": [
       "<Figure size 432x288 with 1 Axes>"
      ]
     },
     "metadata": {
      "needs_background": "light"
     },
     "output_type": "display_data"
    }
   ],
   "source": [
    "import pandas as pd\n",
    "import matplotlib.pyplot as plt\n",
    "\n",
    "asteroid_df = pd.read_json('https://raw.githubusercontent.com/Marcel-Jan/Fun-with-Python/master/mpcorb_10kasteroids.json')\n",
    "plt.scatter(asteroid_df.a, asteroid_df.e, color='k', marker='.', s=1)\n",
    "plt.xlim(2, 3.5)\n",
    "plt.ylim(0, .8)\n",
    "plt.xlabel('Semimajor axis (AU)')\n",
    "plt.ylabel('Eccentricity')\n",
    "plt.title('Primeros 10K asteroides descubiertos')\n",
    "plt.show()"
   ]
  },
  {
   "cell_type": "code",
   "execution_count": 68,
   "metadata": {},
   "outputs": [
    {
     "data": {
      "text/html": [
       "<div>\n",
       "<style scoped>\n",
       "    .dataframe tbody tr th:only-of-type {\n",
       "        vertical-align: middle;\n",
       "    }\n",
       "\n",
       "    .dataframe tbody tr th {\n",
       "        vertical-align: top;\n",
       "    }\n",
       "\n",
       "    .dataframe thead th {\n",
       "        text-align: right;\n",
       "    }\n",
       "</style>\n",
       "<table border=\"1\" class=\"dataframe\">\n",
       "  <thead>\n",
       "    <tr style=\"text-align: right;\">\n",
       "      <th></th>\n",
       "      <th>Perturbers</th>\n",
       "      <th>Synodic_period</th>\n",
       "      <th>Num_opps</th>\n",
       "      <th>Aphelion_dist</th>\n",
       "      <th>Last_obs</th>\n",
       "      <th>Peri</th>\n",
       "      <th>Orbital_period</th>\n",
       "      <th>Perihelion_dist</th>\n",
       "      <th>n</th>\n",
       "      <th>e</th>\n",
       "      <th>...</th>\n",
       "      <th>M</th>\n",
       "      <th>Tp</th>\n",
       "      <th>H</th>\n",
       "      <th>i</th>\n",
       "      <th>Hex_flags</th>\n",
       "      <th>U</th>\n",
       "      <th>NEO_flag</th>\n",
       "      <th>One_km_NEO_flag</th>\n",
       "      <th>PHA_flag</th>\n",
       "      <th>Critical_list_numbered_object_flag</th>\n",
       "    </tr>\n",
       "  </thead>\n",
       "  <tbody>\n",
       "    <tr>\n",
       "      <th>0</th>\n",
       "      <td>M-v</td>\n",
       "      <td>1.277490</td>\n",
       "      <td>113</td>\n",
       "      <td>2.976646</td>\n",
       "      <td>2017-03-05</td>\n",
       "      <td>73.02368</td>\n",
       "      <td>4.603733</td>\n",
       "      <td>2.558173</td>\n",
       "      <td>0.214089</td>\n",
       "      <td>0.075607</td>\n",
       "      <td>...</td>\n",
       "      <td>309.49412</td>\n",
       "      <td>2.458236e+06</td>\n",
       "      <td>3.34</td>\n",
       "      <td>10.59322</td>\n",
       "      <td>0000</td>\n",
       "      <td>0</td>\n",
       "      <td>NaN</td>\n",
       "      <td>NaN</td>\n",
       "      <td>NaN</td>\n",
       "      <td>NaN</td>\n",
       "    </tr>\n",
       "    <tr>\n",
       "      <th>1</th>\n",
       "      <td>M-v</td>\n",
       "      <td>1.276403</td>\n",
       "      <td>108</td>\n",
       "      <td>3.412551</td>\n",
       "      <td>2017-06-01</td>\n",
       "      <td>309.99154</td>\n",
       "      <td>4.617903</td>\n",
       "      <td>2.133619</td>\n",
       "      <td>0.213432</td>\n",
       "      <td>0.230597</td>\n",
       "      <td>...</td>\n",
       "      <td>291.65136</td>\n",
       "      <td>2.458321e+06</td>\n",
       "      <td>4.13</td>\n",
       "      <td>34.83792</td>\n",
       "      <td>0000</td>\n",
       "      <td>0</td>\n",
       "      <td>NaN</td>\n",
       "      <td>NaN</td>\n",
       "      <td>NaN</td>\n",
       "      <td>NaN</td>\n",
       "    </tr>\n",
       "    <tr>\n",
       "      <th>2</th>\n",
       "      <td>M-v</td>\n",
       "      <td>1.297689</td>\n",
       "      <td>104</td>\n",
       "      <td>3.353953</td>\n",
       "      <td>2017-05-21</td>\n",
       "      <td>248.20648</td>\n",
       "      <td>4.359216</td>\n",
       "      <td>1.983110</td>\n",
       "      <td>0.226097</td>\n",
       "      <td>0.256853</td>\n",
       "      <td>...</td>\n",
       "      <td>259.23491</td>\n",
       "      <td>2.458446e+06</td>\n",
       "      <td>5.33</td>\n",
       "      <td>12.98996</td>\n",
       "      <td>0000</td>\n",
       "      <td>0</td>\n",
       "      <td>NaN</td>\n",
       "      <td>NaN</td>\n",
       "      <td>NaN</td>\n",
       "      <td>NaN</td>\n",
       "    </tr>\n",
       "    <tr>\n",
       "      <th>3</th>\n",
       "      <td>M-p</td>\n",
       "      <td>1.380286</td>\n",
       "      <td>100</td>\n",
       "      <td>2.572336</td>\n",
       "      <td>2017-03-23</td>\n",
       "      <td>150.94297</td>\n",
       "      <td>3.629598</td>\n",
       "      <td>2.151219</td>\n",
       "      <td>0.271547</td>\n",
       "      <td>0.089152</td>\n",
       "      <td>...</td>\n",
       "      <td>292.71034</td>\n",
       "      <td>2.458248e+06</td>\n",
       "      <td>3.20</td>\n",
       "      <td>7.14002</td>\n",
       "      <td>0000</td>\n",
       "      <td>0</td>\n",
       "      <td>NaN</td>\n",
       "      <td>NaN</td>\n",
       "      <td>NaN</td>\n",
       "      <td>NaN</td>\n",
       "    </tr>\n",
       "    <tr>\n",
       "      <th>4</th>\n",
       "      <td>M-v</td>\n",
       "      <td>1.319701</td>\n",
       "      <td>75</td>\n",
       "      <td>3.065979</td>\n",
       "      <td>2017-06-02</td>\n",
       "      <td>358.75689</td>\n",
       "      <td>4.127926</td>\n",
       "      <td>2.080591</td>\n",
       "      <td>0.238766</td>\n",
       "      <td>0.191465</td>\n",
       "      <td>...</td>\n",
       "      <td>139.06218</td>\n",
       "      <td>2.457418e+06</td>\n",
       "      <td>6.85</td>\n",
       "      <td>5.36794</td>\n",
       "      <td>0000</td>\n",
       "      <td>0</td>\n",
       "      <td>NaN</td>\n",
       "      <td>NaN</td>\n",
       "      <td>NaN</td>\n",
       "      <td>NaN</td>\n",
       "    </tr>\n",
       "  </tbody>\n",
       "</table>\n",
       "<p>5 rows × 36 columns</p>\n",
       "</div>"
      ],
      "text/plain": [
       "  Perturbers  Synodic_period  Num_opps  Aphelion_dist    Last_obs       Peri  \\\n",
       "0        M-v        1.277490       113       2.976646  2017-03-05   73.02368   \n",
       "1        M-v        1.276403       108       3.412551  2017-06-01  309.99154   \n",
       "2        M-v        1.297689       104       3.353953  2017-05-21  248.20648   \n",
       "3        M-p        1.380286       100       2.572336  2017-03-23  150.94297   \n",
       "4        M-v        1.319701        75       3.065979  2017-06-02  358.75689   \n",
       "\n",
       "   Orbital_period  Perihelion_dist         n         e  ...          M  \\\n",
       "0        4.603733         2.558173  0.214089  0.075607  ...  309.49412   \n",
       "1        4.617903         2.133619  0.213432  0.230597  ...  291.65136   \n",
       "2        4.359216         1.983110  0.226097  0.256853  ...  259.23491   \n",
       "3        3.629598         2.151219  0.271547  0.089152  ...  292.71034   \n",
       "4        4.127926         2.080591  0.238766  0.191465  ...  139.06218   \n",
       "\n",
       "             Tp     H         i  Hex_flags  U NEO_flag  One_km_NEO_flag  \\\n",
       "0  2.458236e+06  3.34  10.59322       0000  0      NaN              NaN   \n",
       "1  2.458321e+06  4.13  34.83792       0000  0      NaN              NaN   \n",
       "2  2.458446e+06  5.33  12.98996       0000  0      NaN              NaN   \n",
       "3  2.458248e+06  3.20   7.14002       0000  0      NaN              NaN   \n",
       "4  2.457418e+06  6.85   5.36794       0000  0      NaN              NaN   \n",
       "\n",
       "  PHA_flag Critical_list_numbered_object_flag  \n",
       "0      NaN                                NaN  \n",
       "1      NaN                                NaN  \n",
       "2      NaN                                NaN  \n",
       "3      NaN                                NaN  \n",
       "4      NaN                                NaN  \n",
       "\n",
       "[5 rows x 36 columns]"
      ]
     },
     "execution_count": 68,
     "metadata": {},
     "output_type": "execute_result"
    }
   ],
   "source": [
    "asteroid_df.head()"
   ]
  },
  {
   "cell_type": "code",
   "execution_count": 20,
   "metadata": {},
   "outputs": [
    {
     "data": {
      "text/plain": [
       "<matplotlib.collections.PathCollection at 0x205534db3d0>"
      ]
     },
     "execution_count": 20,
     "metadata": {},
     "output_type": "execute_result"
    },
    {
     "data": {
      "image/png": "[encoded data removed]",
      "text/plain": [
       "<Figure size 432x288 with 1 Axes>"
      ]
     },
     "metadata": {
      "needs_background": "light"
     },
     "output_type": "display_data"
    }
   ],
   "source": [
    "plt.scatter(asteroid_df.M, asteroid_df.Synodic_period)"
   ]
  },
  {
   "cell_type": "code",
   "execution_count": null,
   "metadata": {},
   "outputs": [],
   "source": []
  }
 ],
 "metadata": {
  "kernelspec": {
   "display_name": "Python 3",
   "language": "python",
   "name": "python3"
  },
  "language_info": {
   "codemirror_mode": {
    "name": "ipython",
    "version": 3
   },
   "file_extension": ".py",
   "mimetype": "text/x-python",
   "name": "python",
   "nbconvert_exporter": "python",
   "pygments_lexer": "ipython3",
   "version": "3.8.5"
  }
 },
 "nbformat": 4,
 "nbformat_minor": 4
}
